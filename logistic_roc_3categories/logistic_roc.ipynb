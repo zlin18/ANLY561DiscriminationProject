{
 "cells": [
  {
   "cell_type": "code",
   "execution_count": 9,
   "metadata": {},
   "outputs": [],
   "source": [
    "import pandas as pd\n",
    "import numpy as np\n",
    "from sklearn import tree\n",
    "from sklearn.tree import DecisionTreeClassifier \n",
    "from sklearn.metrics import precision_score,classification_report,accuracy_score\n",
    "from sklearn.naive_bayes import GaussianNB\n",
    "## set training data\n",
    "train = pd.read_csv(\"AdultTraining5.csv\")\n",
    "y_train = train['income']\n",
    "y_train = y_train.replace(\"<=50K\",0,regex=True)\n",
    "y_train = y_train.replace(\">50K\",1,regex=True)\n",
    "X_train = train.drop('income',axis = 1)\n",
    "## ori test\n",
    "ori_test = pd.read_csv('AdultOriginalTesting5.csv')\n",
    "y_ori = ori_test['income']\n",
    "y_ori = y_ori.replace(\"<=50K\",0,regex=True)\n",
    "y_ori = y_ori.replace(\">50K\",1,regex=True)\n",
    "X_ori = ori_test.drop('income',axis = 1)\n",
    "## new test\n",
    "new_test = pd.read_csv('AdultNewTesting5.csv')\n",
    "y_new = new_test['income']\n",
    "y_new = y_new.replace(\"<=50K\",0,regex=True)\n",
    "y_new = y_new.replace(\">50K\",1,regex=True)\n",
    "X_new = new_test.drop('income',axis = 1)"
   ]
  },
  {
   "cell_type": "code",
   "execution_count": 10,
   "metadata": {},
   "outputs": [
    {
     "name": "stdout",
     "output_type": "stream",
     "text": [
      "LG lbfgs\n",
      " precision for ori: 0.6150943396226415 \n",
      " \n",
      " precision for new: 0.5705128205128205\n"
     ]
    }
   ],
   "source": [
    "### Lglbfgs\n",
    "from sklearn.linear_model import LogisticRegression\n",
    "LG = LogisticRegression(solver='lbfgs').fit(X_train, y_train)\n",
    "y_ori_pred = LG.predict(X_ori)\n",
    "y_ori_precision1 = precision_score(y_ori,y_ori_pred,average = 'binary')\n",
    "y_ori_accuracy1 = accuracy_score(y_ori,y_ori_pred)\n",
    "\n",
    "y_new_pred = LG.predict(X_new)\n",
    "y_new_precision1 = precision_score(y_new,y_new_pred,average = 'binary')\n",
    "y_new_accuracy1 = accuracy_score(y_new,y_new_pred)\n",
    "print(\"LG lbfgs\\n precision for ori:\",y_ori_precision1,\"\\n\",\n",
    "      \"\\n precision for new:\",y_new_precision1)"
   ]
  },
  {
   "cell_type": "code",
   "execution_count": 11,
   "metadata": {},
   "outputs": [
    {
     "name": "stdout",
     "output_type": "stream",
     "text": [
      "LG NT \n",
      " precision for ori: 0.6150943396226415 \n",
      " \n",
      " precision for new: 0.5705128205128205\n"
     ]
    }
   ],
   "source": [
    "### LgNT\n",
    "from sklearn.linear_model import LogisticRegression\n",
    "LG = LogisticRegression(solver='newton-cg').fit(X_train, y_train)\n",
    "y_ori_pred = LG.predict(X_ori)\n",
    "y_ori_precision2 = precision_score(y_ori,y_ori_pred,average = 'binary')\n",
    "y_ori_accuracy2 = accuracy_score(y_ori,y_ori_pred)\n",
    "\n",
    "y_new_pred = LG.predict(X_new)\n",
    "y_new_precision2 = precision_score(y_new,y_new_pred,average = 'binary')\n",
    "y_new_accuracy2 = accuracy_score(y_new,y_new_pred)\n",
    "print(\"LG NT \\n precision for ori:\",y_ori_precision2,\"\\n\",\n",
    "      \"\\n precision for new:\",y_new_precision2)"
   ]
  },
  {
   "cell_type": "code",
   "execution_count": 12,
   "metadata": {},
   "outputs": [
    {
     "name": "stdout",
     "output_type": "stream",
     "text": [
      "LG sag \n",
      " precision for ori: 0.615866388308977 \n",
      " \n",
      " precision for new: 0.5738095238095238\n"
     ]
    },
    {
     "name": "stderr",
     "output_type": "stream",
     "text": [
      "/Users/ning/anaconda3/lib/python3.7/site-packages/sklearn/linear_model/sag.py:337: ConvergenceWarning: The max_iter was reached which means the coef_ did not converge\n",
      "  \"the coef_ did not converge\", ConvergenceWarning)\n"
     ]
    }
   ],
   "source": [
    "### Lgsag\n",
    "from sklearn.linear_model import LogisticRegression\n",
    "LG = LogisticRegression(solver='sag').fit(X_train, y_train)\n",
    "y_ori_pred = LG.predict(X_ori)\n",
    "y_ori_precision3 = precision_score(y_ori,y_ori_pred,average = 'binary')\n",
    "y_ori_accuracy3 = accuracy_score(y_ori,y_ori_pred)\n",
    "\n",
    "y_new_pred = LG.predict(X_new)\n",
    "y_new_precision3 = precision_score(y_new,y_new_pred,average = 'binary')\n",
    "y_new_accuracy3 = accuracy_score(y_new,y_new_pred)\n",
    "print(\"LG sag \\n precision for ori:\",y_ori_precision3,\"\\n\",\n",
    "      \"\\n precision for new:\",y_new_precision3)"
   ]
  },
  {
   "cell_type": "code",
   "execution_count": 13,
   "metadata": {},
   "outputs": [
    {
     "name": "stdout",
     "output_type": "stream",
     "text": [
      "LG saga \n",
      " precision for ori: 0.6332378223495702 \n",
      " \n",
      " precision for new: 0.6052631578947368\n"
     ]
    },
    {
     "name": "stderr",
     "output_type": "stream",
     "text": [
      "/Users/ning/anaconda3/lib/python3.7/site-packages/sklearn/linear_model/sag.py:337: ConvergenceWarning: The max_iter was reached which means the coef_ did not converge\n",
      "  \"the coef_ did not converge\", ConvergenceWarning)\n"
     ]
    }
   ],
   "source": [
    "### Lgsaga\n",
    "from sklearn.linear_model import LogisticRegression\n",
    "LG = LogisticRegression(solver='saga').fit(X_train, y_train)\n",
    "y_ori_pred = LG.predict(X_ori)\n",
    "y_ori_precision4 = precision_score(y_ori,y_ori_pred,average = 'binary')\n",
    "y_ori_accuracy4 = accuracy_score(y_ori,y_ori_pred)\n",
    "\n",
    "y_new_pred = LG.predict(X_new)\n",
    "y_new_precision4 = precision_score(y_new,y_new_pred,average = 'binary')\n",
    "y_new_accuracy4 = accuracy_score(y_new,y_new_pred)\n",
    "print(\"LG saga \\n precision for ori:\",y_ori_precision4,\"\\n\",\n",
    "      \"\\n precision for new:\",y_new_precision4)"
   ]
  },
  {
   "cell_type": "code",
   "execution_count": 14,
   "metadata": {},
   "outputs": [
    {
     "name": "stdout",
     "output_type": "stream",
     "text": [
      "LG lbfgs\n",
      " precision for ori: 0.6150943396226415 \n",
      " \n",
      " precision for new: 0.5705128205128205\n",
      "LG NT \n",
      " precision for ori: 0.6150943396226415 \n",
      " \n",
      " precision for new: 0.5705128205128205\n",
      "LG sag \n",
      " precision for ori: 0.615866388308977 \n",
      " \n",
      " precision for new: 0.5738095238095238\n",
      "LG saga \n",
      " precision for ori: 0.6332378223495702 \n",
      " \n",
      " precision for new: 0.6052631578947368\n"
     ]
    }
   ],
   "source": [
    "print(\"LG lbfgs\\n precision for ori:\",y_ori_precision1,\"\\n\",\n",
    "      \"\\n precision for new:\",y_new_precision1)\n",
    "print(\"LG NT \\n precision for ori:\",y_ori_precision2,\"\\n\",\n",
    "      \"\\n precision for new:\",y_new_precision2)\n",
    "print(\"LG sag \\n precision for ori:\",y_ori_precision3,\"\\n\",\n",
    "      \"\\n precision for new:\",y_new_precision3)\n",
    "print(\"LG saga \\n precision for ori:\",y_ori_precision4,\"\\n\",\n",
    "      \"\\n precision for new:\",y_new_precision4)"
   ]
  },
  {
   "cell_type": "code",
   "execution_count": 17,
   "metadata": {},
   "outputs": [
    {
     "name": "stderr",
     "output_type": "stream",
     "text": [
      "/Users/ning/anaconda3/lib/python3.7/site-packages/sklearn/linear_model/sag.py:337: ConvergenceWarning: The max_iter was reached which means the coef_ did not converge\n",
      "  \"the coef_ did not converge\", ConvergenceWarning)\n",
      "/Users/ning/anaconda3/lib/python3.7/site-packages/sklearn/linear_model/sag.py:337: ConvergenceWarning: The max_iter was reached which means the coef_ did not converge\n",
      "  \"the coef_ did not converge\", ConvergenceWarning)\n"
     ]
    },
    {
     "data": {
      "image/png": "[encoded data removed]",
      "text/plain": [
       "<Figure size 432x288 with 1 Axes>"
      ]
     },
     "metadata": {
      "needs_background": "light"
     },
     "output_type": "display_data"
    }
   ],
   "source": [
    "from sklearn.metrics import roc_curve\n",
    "from sklearn import metrics\n",
    "import matplotlib.pyplot as plt\n",
    "\n",
    "LG = LogisticRegression(solver='lbfgs').fit(X_train, y_train)\n",
    "y_pred_prob_ori = LG.predict_proba(X_ori)[:,1]\n",
    "fpr1, tpr1, thresholds1 = metrics.roc_curve(y_ori, y_pred_prob_ori)\n",
    "y_pred_prob_new = LG.predict_proba(X_new)[:,1]\n",
    "fpr2, tpr2, thresholds2 = metrics.roc_curve(y_new, y_pred_prob_new)\n",
    "\n",
    "LG = LogisticRegression(solver='newton-cg').fit(X_train, y_train)\n",
    "y_pred_prob_ori = LG.predict_proba(X_ori)[:,1]\n",
    "fpr3, tpr3, thresholds3 = metrics.roc_curve(y_ori, y_pred_prob_ori)\n",
    "y_pred_prob_new = LG.predict_proba(X_new)[:,1]\n",
    "fpr4, tpr4, thresholds4 = metrics.roc_curve(y_new, y_pred_prob_new)\n",
    "\n",
    "LG = LogisticRegression(solver='sag').fit(X_train, y_train)\n",
    "y_pred_prob_ori = LG.predict_proba(X_ori)[:,1]\n",
    "fpr5, tpr5, thresholds5 = metrics.roc_curve(y_ori, y_pred_prob_ori)\n",
    "y_pred_prob_new = LG.predict_proba(X_new)[:,1]\n",
    "fpr6, tpr6, thresholds6 = metrics.roc_curve(y_new, y_pred_prob_new)\n",
    "\n",
    "LG = LogisticRegression(solver='saga').fit(X_train, y_train)\n",
    "y_pred_prob_ori = LG.predict_proba(X_ori)[:,1]\n",
    "fpr7, tpr7, thresholds7 = metrics.roc_curve(y_ori, y_pred_prob_ori)\n",
    "y_pred_prob_new = LG.predict_proba(X_new)[:,1]\n",
    "fpr8, tpr8, thresholds8 = metrics.roc_curve(y_new, y_pred_prob_new)\n",
    "\n",
    "plt.plot([0,1],[0,1],'k--')\n",
    "plt.plot(fpr1,tpr1,label = 'lbfgs_ori')\n",
    "plt.plot(fpr2,tpr2,label = 'lbfgs_new')\n",
    "plt.plot(fpr3,tpr3,label = 'NT_ori')\n",
    "plt.plot(fpr4,tpr4,label = 'NT_new')\n",
    "plt.plot(fpr5,tpr5,label = 'sag_ori')\n",
    "plt.plot(fpr6,tpr6,label = 'sag_new')\n",
    "plt.plot(fpr7,tpr7,label = 'saga_ori')\n",
    "plt.plot(fpr8,tpr8,label = 'saga_new')\n",
    "plt.xlabel('False Positive Rate')\n",
    "plt.ylabel('True Positive Rate')\n",
    "plt.title('Logistic Regression ROC Curve for Sex')\n",
    "plt.legend()\n",
    "plt.show()"
   ]
  },
  {
   "cell_type": "code",
   "execution_count": 16,
   "metadata": {},
   "outputs": [
    {
     "data": {
      "image/png": "[encoded data removed]",
      "text/plain": [
       "<Figure size 432x288 with 1 Axes>"
      ]
     },
     "metadata": {
      "needs_background": "light"
     },
     "output_type": "display_data"
    }
   ],
   "source": [
    "LG = LogisticRegression(solver='lbfgs').fit(X_train, y_train)\n",
    "\n",
    "y_pred_prob_ori = LG.predict_proba(X_ori)[:,1]\n",
    "fpr1, tpr1, thresholds1 = metrics.roc_curve(y_ori, y_pred_prob_ori)\n",
    "\n",
    "y_pred_prob_new = LG.predict_proba(X_new)[:,1]\n",
    "fpr2, tpr2, thresholds2 = metrics.roc_curve(y_new, y_pred_prob_new)\n",
    "\n",
    "\n",
    "plt.plot([0,1],[0,1],'k--')\n",
    "plt.plot(fpr1,tpr1,label = 'ori')\n",
    "plt.plot(fpr2,tpr2,label = 'new')\n",
    "plt.xlabel('False Positive Rate')\n",
    "plt.ylabel('True Positive Rate')\n",
    "plt.title('Logistic Regression ROC Curve for lbfgs')\n",
    "plt.legend()\n",
    "plt.show()"
   ]
  },
  {
   "cell_type": "code",
   "execution_count": null,
   "metadata": {},
   "outputs": [],
   "source": []
  }
 ],
 "metadata": {
  "kernelspec": {
   "display_name": "Python 3",
   "language": "python",
   "name": "python3"
  },
  "language_info": {
   "codemirror_mode": {
    "name": "ipython",
    "version": 3
   },
   "file_extension": ".py",
   "mimetype": "text/x-python",
   "name": "python",
   "nbconvert_exporter": "python",
   "pygments_lexer": "ipython3",
   "version": "3.7.3"
  }
 },
 "nbformat": 4,
 "nbformat_minor": 2
}
