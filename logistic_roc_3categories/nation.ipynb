{
 "cells": [
  {
   "cell_type": "code",
   "execution_count": 1,
   "metadata": {},
   "outputs": [],
   "source": [
    "import pandas as pd\n",
    "import numpy as np\n",
    "from sklearn import tree\n",
    "from sklearn.tree import DecisionTreeClassifier \n",
    "from sklearn.metrics import precision_score,classification_report,accuracy_score\n",
    "from sklearn.naive_bayes import GaussianNB\n",
    "## set training data\n",
    "train = pd.read_csv(\"AdultTraining1.csv\")\n",
    "y_train = train['income']\n",
    "y_train = y_train.replace(\"<=50K\",0,regex=True)\n",
    "y_train = y_train.replace(\">50K\",1,regex=True)\n",
    "X_train = train.drop('income',axis = 1)\n",
    "## ori test\n",
    "ori_test = pd.read_csv('AdultOriginalTesting1.csv')\n",
    "y_ori = ori_test['income']\n",
    "y_ori = y_ori.replace(\"<=50K\",0,regex=True)\n",
    "y_ori = y_ori.replace(\">50K\",1,regex=True)\n",
    "X_ori = ori_test.drop('income',axis = 1)\n",
    "## new test\n",
    "new_test = pd.read_csv('AdultNewTesting1.csv')\n",
    "y_new = new_test['income']\n",
    "y_new = y_new.replace(\"<=50K\",0,regex=True)\n",
    "y_new = y_new.replace(\">50K\",1,regex=True)\n",
    "X_new = new_test.drop('income',axis = 1)"
   ]
  },
  {
   "cell_type": "code",
   "execution_count": 2,
   "metadata": {},
   "outputs": [
    {
     "name": "stdout",
     "output_type": "stream",
     "text": [
      "DT \n",
      " precision for ori: 0.589041095890411 \n",
      " precision for new: 0.5644444444444444\n"
     ]
    }
   ],
   "source": [
    "### DT\n",
    "DT = DecisionTreeClassifier().fit(X_train, y_train)\n",
    "## ori\n",
    "y_ori_pred = DT.predict(X_ori)\n",
    "y_ori_precision1 = precision_score(y_ori,y_ori_pred,average = 'binary')\n",
    "y_ori_accuracy1 = accuracy_score(y_ori,y_ori_pred)\n",
    "## new\n",
    "y_new_pred = DT.predict(X_new)\n",
    "y_new_precision1 = precision_score(y_new,y_new_pred,average = 'binary')\n",
    "y_new_accuracy1 = accuracy_score(y_new,y_new_pred)\n",
    "print(\"DT \\n precision for ori:\",y_ori_precision1,\"\\n precision for new:\",y_new_precision1)"
   ]
  },
  {
   "cell_type": "code",
   "execution_count": 3,
   "metadata": {},
   "outputs": [
    {
     "name": "stdout",
     "output_type": "stream",
     "text": [
      "NB \n",
      " precision for ori: 0.6616915422885572 \n",
      " precision for new: 0.631336405529954\n"
     ]
    }
   ],
   "source": [
    "### NB\n",
    "NB = GaussianNB().fit(X_train, y_train)\n",
    "## ori\n",
    "y_ori_pred = NB.predict(X_ori)\n",
    "y_ori_precision2 = precision_score(y_ori,y_ori_pred,average = 'binary')\n",
    "y_ori_accuracy2 = accuracy_score(y_ori,y_ori_pred)\n",
    "# new\n",
    "y_new_pred = NB.predict(X_new)\n",
    "y_new_precision2 = precision_score(y_new,y_new_pred,average = 'binary')\n",
    "y_new_accuracy2 = accuracy_score(y_new,y_new_pred)\n",
    "print(\"NB \\n precision for ori:\",y_ori_precision2,\"\\n precision for new:\",y_new_precision2)"
   ]
  },
  {
   "cell_type": "code",
   "execution_count": 4,
   "metadata": {},
   "outputs": [
    {
     "name": "stdout",
     "output_type": "stream",
     "text": [
      "SVM \n",
      " precision for ori: 0.5847457627118644 \n",
      " precision for new: 0.5435684647302904\n"
     ]
    }
   ],
   "source": [
    "### SVM\n",
    "from sklearn.svm import SVC\n",
    "SVM = SVC(kernel = 'rbf',C = 20,gamma = 'auto').fit(X_train, y_train)\n",
    "## ori\n",
    "y_ori_pred = SVM.predict(X_ori)\n",
    "y_ori_precision3 = precision_score(y_ori,y_ori_pred,average = 'binary')\n",
    "y_ori_accuracy3 = accuracy_score(y_ori,y_ori_pred)\n",
    "## new\n",
    "y_new_pred = SVM.predict(X_new)\n",
    "y_new_precision3 = precision_score(y_new,y_new_pred,average = 'binary')\n",
    "y_new_accuracy3 = accuracy_score(y_new,y_new_pred)\n",
    "print(\"SVM \\n precision for ori:\",y_ori_precision3,\"\\n precision for new:\",y_new_precision3)"
   ]
  },
  {
   "cell_type": "code",
   "execution_count": 5,
   "metadata": {},
   "outputs": [
    {
     "name": "stdout",
     "output_type": "stream",
     "text": [
      "LG \n",
      " precision for ori: 0.5918367346938775 \n",
      " \n",
      " precision for new: 0.5913461538461539\n"
     ]
    }
   ],
   "source": [
    "### Lg\n",
    "from sklearn.linear_model import LogisticRegression\n",
    "LG = LogisticRegression(solver='lbfgs').fit(X_train, y_train)\n",
    "y_ori_pred = LG.predict(X_ori)\n",
    "y_ori_precision4 = precision_score(y_ori,y_ori_pred,average = 'binary')\n",
    "y_ori_accuracy4 = accuracy_score(y_ori,y_ori_pred)\n",
    "\n",
    "y_new_pred = LG.predict(X_new)\n",
    "y_new_precision4 = precision_score(y_new,y_new_pred,average = 'binary')\n",
    "y_new_accuracy4 = accuracy_score(y_new,y_new_pred)\n",
    "print(\"LG \\n precision for ori:\",y_ori_precision4,\"\\n\",\n",
    "      \"\\n precision for new:\",y_new_precision4)"
   ]
  },
  {
   "cell_type": "code",
   "execution_count": 6,
   "metadata": {},
   "outputs": [],
   "source": [
    "### RF\n",
    "from sklearn.ensemble import RandomForestClassifier\n",
    "RF = RandomForestClassifier(n_estimators=100).fit(X_train, y_train)\n",
    "y_ori_pred = RF.predict(X_ori)\n",
    "y_ori_precision5 = precision_score(y_ori,y_ori_pred,average = \"binary\")\n",
    "y_ori_accuracy5 = accuracy_score(y_ori,y_ori_pred)\n",
    "y_new_pred = RF.predict(X_new)\n",
    "y_new_precision5 = precision_score(y_new,y_new_pred,average = \"binary\")\n",
    "y_new_accuracy5 = accuracy_score(y_new,y_new_pred)"
   ]
  },
  {
   "cell_type": "code",
   "execution_count": 7,
   "metadata": {},
   "outputs": [
    {
     "name": "stdout",
     "output_type": "stream",
     "text": [
      "DT \n",
      " precision for ori: 0.589041095890411 \n",
      " precision for new: 0.5644444444444444 \n",
      " accuracy for ori: 0.7817109144542773 \n",
      " accuracy for new: 0.775811209439528\n",
      "NB \n",
      " precision for ori: 0.6616915422885572 \n",
      " precision for new: 0.631336405529954 \n",
      " accuracy for ori: 0.8008849557522124 \n",
      " accuracy for new: 0.7964601769911505\n",
      "SVMrbf \n",
      " precision for ori: 0.5847457627118644 \n",
      " precision for new: 0.5435684647302904 \n",
      " accuracy for ori: 0.782448377581121 \n",
      " accuracy for new: 0.7699115044247787\n",
      "LG \n",
      " precision for ori: 0.5918367346938775 \n",
      " precision for new: 0.5913461538461539 \n",
      " accuracy for ori: 0.7794985250737463 \n",
      " accuracy for new: 0.782448377581121\n",
      "RF \n",
      " precision for ori: 0.5929203539823009 \n",
      " precision for new: 0.5947136563876652 \n",
      " accuracy for ori: 0.7839233038348082 \n",
      " accuracy for new: 0.7861356932153393\n"
     ]
    }
   ],
   "source": [
    "print(\"DT \\n precision for ori:\",y_ori_precision1,\"\\n precision for new:\",y_new_precision1,\n",
    "     \"\\n accuracy for ori:\",y_ori_accuracy1,\"\\n accuracy for new:\",y_new_accuracy1)\n",
    "print(\"NB \\n precision for ori:\",y_ori_precision2,\"\\n precision for new:\",y_new_precision2,\n",
    "     \"\\n accuracy for ori:\",y_ori_accuracy2,\"\\n accuracy for new:\",y_new_accuracy2)\n",
    "print(\"SVMrbf \\n precision for ori:\",y_ori_precision3,\"\\n precision for new:\",y_new_precision3,\n",
    "     \"\\n accuracy for ori:\",y_ori_accuracy3,\"\\n accuracy for new:\",y_new_accuracy3)\n",
    "print(\"LG \\n precision for ori:\",y_ori_precision4,\"\\n precision for new:\",y_new_precision4,\n",
    "     \"\\n accuracy for ori:\",y_ori_accuracy4,\"\\n accuracy for new:\",y_new_accuracy4)\n",
    "print(\"RF \\n precision for ori:\",y_ori_precision5,\"\\n precision for new:\",y_new_precision5,\n",
    "     \"\\n accuracy for ori:\",y_ori_accuracy5,\"\\n accuracy for new:\",y_new_accuracy5)"
   ]
  },
  {
   "cell_type": "code",
   "execution_count": 8,
   "metadata": {},
   "outputs": [
    {
     "name": "stdout",
     "output_type": "stream",
     "text": [
      "LG lbfgs\n",
      " precision for ori: 0.5918367346938775 \n",
      " \n",
      " precision for new: 0.5913461538461539\n"
     ]
    }
   ],
   "source": [
    "### Lglbfgs\n",
    "from sklearn.linear_model import LogisticRegression\n",
    "LG = LogisticRegression(solver='lbfgs').fit(X_train, y_train)\n",
    "y_ori_pred = LG.predict(X_ori)\n",
    "y_ori_precision4 = precision_score(y_ori,y_ori_pred,average = 'binary')\n",
    "y_ori_accuracy4 = accuracy_score(y_ori,y_ori_pred)\n",
    "\n",
    "y_new_pred = LG.predict(X_new)\n",
    "y_new_precision4 = precision_score(y_new,y_new_pred,average = 'binary')\n",
    "y_new_accuracy4 = accuracy_score(y_new,y_new_pred)\n",
    "print(\"LG lbfgs\\n precision for ori:\",y_ori_precision4,\"\\n\",\n",
    "      \"\\n precision for new:\",y_new_precision4)"
   ]
  },
  {
   "cell_type": "code",
   "execution_count": 9,
   "metadata": {},
   "outputs": [
    {
     "name": "stdout",
     "output_type": "stream",
     "text": [
      "LG NT \n",
      " precision for ori: 0.5918367346938775 \n",
      " \n",
      " precision for new: 0.5913461538461539\n"
     ]
    }
   ],
   "source": [
    "### LgNT\n",
    "from sklearn.linear_model import LogisticRegression\n",
    "LG = LogisticRegression(solver='newton-cg').fit(X_train, y_train)\n",
    "y_ori_pred = LG.predict(X_ori)\n",
    "y_ori_precision4 = precision_score(y_ori,y_ori_pred,average = 'binary')\n",
    "y_ori_accuracy4 = accuracy_score(y_ori,y_ori_pred)\n",
    "\n",
    "y_new_pred = LG.predict(X_new)\n",
    "y_new_precision4 = precision_score(y_new,y_new_pred,average = 'binary')\n",
    "y_new_accuracy4 = accuracy_score(y_new,y_new_pred)\n",
    "print(\"LG NT \\n precision for ori:\",y_ori_precision4,\"\\n\",\n",
    "      \"\\n precision for new:\",y_new_precision4)"
   ]
  },
  {
   "cell_type": "code",
   "execution_count": 10,
   "metadata": {},
   "outputs": [
    {
     "name": "stdout",
     "output_type": "stream",
     "text": [
      "LG sag \n",
      " precision for ori: 0.6134969325153374 \n",
      " \n",
      " precision for new: 0.6104651162790697\n"
     ]
    },
    {
     "name": "stderr",
     "output_type": "stream",
     "text": [
      "/Users/ning/anaconda3/lib/python3.7/site-packages/sklearn/linear_model/sag.py:337: ConvergenceWarning: The max_iter was reached which means the coef_ did not converge\n",
      "  \"the coef_ did not converge\", ConvergenceWarning)\n"
     ]
    }
   ],
   "source": [
    "### Lgsag\n",
    "from sklearn.linear_model import LogisticRegression\n",
    "LG = LogisticRegression(solver='sag').fit(X_train, y_train)\n",
    "y_ori_pred = LG.predict(X_ori)\n",
    "y_ori_precision4 = precision_score(y_ori,y_ori_pred,average = 'binary')\n",
    "y_ori_accuracy4 = accuracy_score(y_ori,y_ori_pred)\n",
    "\n",
    "y_new_pred = LG.predict(X_new)\n",
    "y_new_precision4 = precision_score(y_new,y_new_pred,average = 'binary')\n",
    "y_new_accuracy4 = accuracy_score(y_new,y_new_pred)\n",
    "print(\"LG sag \\n precision for ori:\",y_ori_precision4,\"\\n\",\n",
    "      \"\\n precision for new:\",y_new_precision4)"
   ]
  },
  {
   "cell_type": "code",
   "execution_count": 11,
   "metadata": {},
   "outputs": [
    {
     "name": "stdout",
     "output_type": "stream",
     "text": [
      "LG saga \n",
      " precision for ori: 0.625 \n",
      " \n",
      " precision for new: 0.6120689655172413\n"
     ]
    },
    {
     "name": "stderr",
     "output_type": "stream",
     "text": [
      "/Users/ning/anaconda3/lib/python3.7/site-packages/sklearn/linear_model/sag.py:337: ConvergenceWarning: The max_iter was reached which means the coef_ did not converge\n",
      "  \"the coef_ did not converge\", ConvergenceWarning)\n"
     ]
    }
   ],
   "source": [
    "### Lgsaga\n",
    "from sklearn.linear_model import LogisticRegression\n",
    "LG = LogisticRegression(solver='saga').fit(X_train, y_train)\n",
    "y_ori_pred = LG.predict(X_ori)\n",
    "y_ori_precision4 = precision_score(y_ori,y_ori_pred,average = 'binary')\n",
    "y_ori_accuracy4 = accuracy_score(y_ori,y_ori_pred)\n",
    "\n",
    "y_new_pred = LG.predict(X_new)\n",
    "y_new_precision4 = precision_score(y_new,y_new_pred,average = 'binary')\n",
    "y_new_accuracy4 = accuracy_score(y_new,y_new_pred)\n",
    "print(\"LG saga \\n precision for ori:\",y_ori_precision4,\"\\n\",\n",
    "      \"\\n precision for new:\",y_new_precision4)"
   ]
  }
 ],
 "metadata": {
  "kernelspec": {
   "display_name": "Python 3",
   "language": "python",
   "name": "python3"
  },
  "language_info": {
   "codemirror_mode": {
    "name": "ipython",
    "version": 3
   },
   "file_extension": ".py",
   "mimetype": "text/x-python",
   "name": "python",
   "nbconvert_exporter": "python",
   "pygments_lexer": "ipython3",
   "version": "3.7.3"
  }
 },
 "nbformat": 4,
 "nbformat_minor": 2
}
